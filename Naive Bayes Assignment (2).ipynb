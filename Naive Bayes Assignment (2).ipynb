{
 "cells": [
  {
   "cell_type": "code",
   "execution_count": 13,
   "id": "c6f20353",
   "metadata": {
    "ExecuteTime": {
     "end_time": "2021-11-09T04:22:10.541157Z",
     "start_time": "2021-11-09T04:22:10.533180Z"
    }
   },
   "outputs": [],
   "source": [
    "import pandas as pd\n",
    "import numpy as np\n",
    "import matplotlib.pyplot as plt \n",
    "from sklearn.naive_bayes import GaussianNB\n",
    "from sklearn.naive_bayes import MultinomialNB\n",
    "from sklearn.naive_bayes import BernoulliNB\n",
    "from sklearn.model_selection import train_test_split\n",
    "from sklearn.metrics import confusion_matrix"
   ]
  },
  {
   "cell_type": "code",
   "execution_count": 14,
   "id": "c5041c12",
   "metadata": {
    "ExecuteTime": {
     "end_time": "2021-11-09T04:22:12.356404Z",
     "start_time": "2021-11-09T04:22:12.210539Z"
    }
   },
   "outputs": [],
   "source": [
    "salary_train = pd.read_csv(\"SalaryData_Train.csv\")\n",
    "salary_test = pd.read_csv(\"SalaryData_Test.csv\")\n",
    "string_columns=[\"workclass\",\"education\",\"maritalstatus\",\"occupation\",\"relationship\",\"race\",\"sex\",\"native\"]"
   ]
  },
  {
   "cell_type": "code",
   "execution_count": 15,
   "id": "641caadb",
   "metadata": {
    "ExecuteTime": {
     "end_time": "2021-11-09T04:22:13.156053Z",
     "start_time": "2021-11-09T04:22:13.014606Z"
    }
   },
   "outputs": [],
   "source": [
    "from sklearn import preprocessing\n",
    "number = preprocessing.LabelEncoder()\n",
    "for i in string_columns:\n",
    "    salary_train[i] = number.fit_transform(salary_train[i])\n",
    "    salary_test[i] = number.fit_transform(salary_test[i])"
   ]
  },
  {
   "cell_type": "code",
   "execution_count": 16,
   "id": "fbf0c434",
   "metadata": {
    "ExecuteTime": {
     "end_time": "2021-11-09T04:22:13.813656Z",
     "start_time": "2021-11-09T04:22:13.785729Z"
    }
   },
   "outputs": [],
   "source": [
    "colnames = salary_train.columns\n",
    "len(colnames[0:13])\n",
    "trainX = salary_train[colnames[0:13]]\n",
    "trainY = salary_train[colnames[13]]\n",
    "testX  = salary_test[colnames[0:13]]\n",
    "testY  = salary_test[colnames[13]]"
   ]
  },
  {
   "cell_type": "code",
   "execution_count": 17,
   "id": "0d1cbff7",
   "metadata": {
    "ExecuteTime": {
     "end_time": "2021-11-09T04:22:14.470021Z",
     "start_time": "2021-11-09T04:22:14.377231Z"
    }
   },
   "outputs": [
    {
     "name": "stdout",
     "output_type": "stream",
     "text": [
      "[' <=50K' ' <=50K' ' <=50K' ... ' <=50K' ' >50K' ' <=50K']\n"
     ]
    }
   ],
   "source": [
    "sgnb = GaussianNB()\n",
    "spred_gnb = sgnb.fit(trainX,trainY).predict(testX)\n",
    "print(spred_gnb)"
   ]
  },
  {
   "cell_type": "code",
   "execution_count": 18,
   "id": "dbf1db5c",
   "metadata": {
    "ExecuteTime": {
     "end_time": "2021-11-09T04:22:15.187209Z",
     "start_time": "2021-11-09T04:22:15.093690Z"
    }
   },
   "outputs": [
    {
     "data": {
      "text/plain": [
       "array([[10759,   601],\n",
       "       [ 2491,  1209]], dtype=int64)"
      ]
     },
     "execution_count": 18,
     "metadata": {},
     "output_type": "execute_result"
    }
   ],
   "source": [
    "confusion_matrix(testY,spred_gnb)"
   ]
  },
  {
   "cell_type": "code",
   "execution_count": 19,
   "id": "e5ebc2b7",
   "metadata": {
    "ExecuteTime": {
     "end_time": "2021-11-09T04:22:16.036635Z",
     "start_time": "2021-11-09T04:22:16.018682Z"
    }
   },
   "outputs": [
    {
     "name": "stdout",
     "output_type": "stream",
     "text": [
      "Accuracy 0.7946879150066402\n"
     ]
    }
   ],
   "source": [
    "print (\"Accuracy\",(10759+1209)/(10759+601+2491+1209)) "
   ]
  },
  {
   "cell_type": "code",
   "execution_count": 36,
   "id": "8caafddf",
   "metadata": {
    "ExecuteTime": {
     "end_time": "2021-11-09T04:30:25.853942Z",
     "start_time": "2021-11-09T04:30:25.722773Z"
    }
   },
   "outputs": [
    {
     "name": "stdout",
     "output_type": "stream",
     "text": [
      "[' <=50K' ' <=50K' ' <=50K' ... ' <=50K' ' >50K' ' <=50K']\n"
     ]
    }
   ],
   "source": [
    "smnb = MultinomialNB()\n",
    "spred_mnb = smnb.fit(trainX,trainY).predict(testX)\n",
    "print(spred_mnb)"
   ]
  },
  {
   "cell_type": "code",
   "execution_count": 21,
   "id": "bd568be1",
   "metadata": {
    "ExecuteTime": {
     "end_time": "2021-11-09T04:22:18.222692Z",
     "start_time": "2021-11-09T04:22:18.128282Z"
    }
   },
   "outputs": [
    {
     "data": {
      "text/plain": [
       "array([[10891,   469],\n",
       "       [ 2920,   780]], dtype=int64)"
      ]
     },
     "execution_count": 21,
     "metadata": {},
     "output_type": "execute_result"
    }
   ],
   "source": [
    "confusion_matrix(testY,spred_mnb)"
   ]
  },
  {
   "cell_type": "code",
   "execution_count": 25,
   "id": "4809b0b7",
   "metadata": {
    "ExecuteTime": {
     "end_time": "2021-11-09T04:24:26.819532Z",
     "start_time": "2021-11-09T04:24:26.801581Z"
    }
   },
   "outputs": [
    {
     "name": "stdout",
     "output_type": "stream",
     "text": [
      "Accuracy 0.7749667994687915\n"
     ]
    }
   ],
   "source": [
    "print(\"Accuracy\",(10891+780)/(10891+780+2920+469))"
   ]
  },
  {
   "cell_type": "code",
   "execution_count": 27,
   "id": "ff72990a",
   "metadata": {
    "ExecuteTime": {
     "end_time": "2021-11-09T04:26:03.038575Z",
     "start_time": "2021-11-09T04:26:02.908087Z"
    }
   },
   "outputs": [
    {
     "name": "stdout",
     "output_type": "stream",
     "text": [
      "[' <=50K' ' <=50K' ' <=50K' ... ' <=50K' ' <=50K' ' <=50K']\n"
     ]
    }
   ],
   "source": [
    "sbnb = BernoulliNB(binarize= True)\n",
    "spred_bnb = sbnb.fit(trainX,trainY).predict(testX)\n",
    "print(spred_bnb)"
   ]
  },
  {
   "cell_type": "code",
   "execution_count": 28,
   "id": "70d1193f",
   "metadata": {
    "ExecuteTime": {
     "end_time": "2021-11-09T04:26:03.930664Z",
     "start_time": "2021-11-09T04:26:03.831765Z"
    }
   },
   "outputs": [
    {
     "data": {
      "text/plain": [
       "array([[10897,   463],\n",
       "       [ 2772,   928]], dtype=int64)"
      ]
     },
     "execution_count": 28,
     "metadata": {},
     "output_type": "execute_result"
    }
   ],
   "source": [
    "confusion_matrix(testY,spred_bnb)"
   ]
  },
  {
   "cell_type": "code",
   "execution_count": 29,
   "id": "dd028979",
   "metadata": {
    "ExecuteTime": {
     "end_time": "2021-11-09T04:26:43.017952Z",
     "start_time": "2021-11-09T04:26:43.000998Z"
    }
   },
   "outputs": [
    {
     "name": "stdout",
     "output_type": "stream",
     "text": [
      "Accuracy 0.7851925630810093\n"
     ]
    }
   ],
   "source": [
    "print(\"Accuracy\",(10897+928)/(10897+463+2772+928))"
   ]
  },
  {
   "cell_type": "code",
   "execution_count": null,
   "id": "1efbbfae",
   "metadata": {},
   "outputs": [],
   "source": []
  }
 ],
 "metadata": {
  "kernelspec": {
   "display_name": "Python 3",
   "language": "python",
   "name": "python3"
  },
  "language_info": {
   "codemirror_mode": {
    "name": "ipython",
    "version": 3
   },
   "file_extension": ".py",
   "mimetype": "text/x-python",
   "name": "python",
   "nbconvert_exporter": "python",
   "pygments_lexer": "ipython3",
   "version": "3.8.8"
  },
  "toc": {
   "base_numbering": 1,
   "nav_menu": {},
   "number_sections": true,
   "sideBar": true,
   "skip_h1_title": false,
   "title_cell": "Table of Contents",
   "title_sidebar": "Contents",
   "toc_cell": false,
   "toc_position": {},
   "toc_section_display": true,
   "toc_window_display": false
  },
  "varInspector": {
   "cols": {
    "lenName": 16,
    "lenType": 16,
    "lenVar": 40
   },
   "kernels_config": {
    "python": {
     "delete_cmd_postfix": "",
     "delete_cmd_prefix": "del ",
     "library": "var_list.py",
     "varRefreshCmd": "print(var_dic_list())"
    },
    "r": {
     "delete_cmd_postfix": ") ",
     "delete_cmd_prefix": "rm(",
     "library": "var_list.r",
     "varRefreshCmd": "cat(var_dic_list()) "
    }
   },
   "types_to_exclude": [
    "module",
    "function",
    "builtin_function_or_method",
    "instance",
    "_Feature"
   ],
   "window_display": false
  }
 },
 "nbformat": 4,
 "nbformat_minor": 5
}
